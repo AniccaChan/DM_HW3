{
 "cells": [
  {
   "cell_type": "code",
   "execution_count": 10,
   "metadata": {},
   "outputs": [],
   "source": [
    "import numpy as np"
   ]
  },
  {
   "cell_type": "code",
   "execution_count": 13,
   "metadata": {},
   "outputs": [
    {
     "name": "stdout",
     "output_type": "stream",
     "text": [
      "[[1, 2], [2, 3], [3, 4], [4, 5], [5, 6]]\n",
      "6\n",
      "[[0. 1. 0. 0. 0. 0.]\n",
      " [0. 0. 1. 0. 0. 0.]\n",
      " [0. 0. 0. 1. 0. 0.]\n",
      " [0. 0. 0. 0. 1. 0.]\n",
      " [0. 0. 0. 0. 0. 1.]\n",
      " [0. 0. 0. 0. 0. 0.]]\n",
      "[[0.         0.16666667 0.         0.         0.         0.        ]\n",
      " [0.         0.         0.16666667 0.         0.         0.        ]\n",
      " [0.         0.         0.         0.16666667 0.         0.        ]\n",
      " [0.         0.         0.         0.         0.16666667 0.        ]\n",
      " [0.         0.         0.         0.         0.         0.16666667]\n",
      " [0.         0.         0.         0.         0.         0.        ]]\n"
     ]
    }
   ],
   "source": [
    "with open(\"Project3 Dataset\\graph_1.txt\" , \"r\") as f:\n",
    "    edges = []\n",
    "    edge = f.readline()\n",
    "    while edge:\n",
    "        v1 , v2 = edge.split(\",\")\n",
    "        v1,v2 = int(v1), int(v2)\n",
    "        edges.append([v1,v2])\n",
    "        edge = f.readline()\n",
    "    print(edges)\n",
    "    print(np.amax(edges))\n",
    "adj_matrix = np.zeros([6,6])\n",
    "for edge in edges:\n",
    "    v1,v2 = edge\n",
    "    adj_matrix[v1-1][v2-1] = 1\n",
    "print(adj_matrix)\n",
    "pr_matrix = adj_matrix/np.amax((edges))\n",
    "print(pr_matrix)"
   ]
  },
  {
   "cell_type": "code",
   "execution_count": 16,
   "metadata": {},
   "outputs": [
    {
     "name": "stdout",
     "output_type": "stream",
     "text": [
      "[0. 0. 0. 0. 0. 0.]\n"
     ]
    }
   ],
   "source": [
    "E_value, E_vector = np.linalg.eig(adj_matrix)\n",
    "print(E_value)\n",
    "print(E_vector)"
   ]
  }
 ],
 "metadata": {
  "kernelspec": {
   "display_name": "Python 3",
   "language": "python",
   "name": "python3"
  },
  "language_info": {
   "codemirror_mode": {
    "name": "ipython",
    "version": 3
   },
   "file_extension": ".py",
   "mimetype": "text/x-python",
   "name": "python",
   "nbconvert_exporter": "python",
   "pygments_lexer": "ipython3",
   "version": "3.10.2"
  }
 },
 "nbformat": 4,
 "nbformat_minor": 2
}
